{
 "cells": [
  {
   "cell_type": "markdown",
   "metadata": {},
   "source": [
    "문제1번. (정수 자릿수 합산하기) 정수의 자릿수 합을 계산하는 함수를 작성하시오. 다음의 함수\n",
    "\n",
    "헤더를 사용하라. def sumDigits(n):예를 들어, sumDigits(234)는 9 (9=2+3+4이다.) 를 반환한다\n",
    "\n",
    "(힌트: 자릿수 추출을 위해 % 연산자를 사용하며, 추출된 자릿수의 삭제를 위해 // 연산자를 사용하\n",
    "\n",
    "\n",
    "라. 예를 들어, 234에서 4를 추출하기 위해 234%10(=4)을 사용한다. 234에서 4를 삭제하기 위해\n",
    "\n",
    "234//10(=23)을 사용한다. 모든 자릿수가 추출될 때까지 각 자리마다 자릿수를 반복적으로 추출하고\n",
    "\n",
    "삭제하기 위해 ‘루프’를 사용하라.) 사용자로부터 하나의 정수를 입력 받고 이 정수의 모든 자릿수의\n",
    "\n",
    "합을 출력하는프로그램을 작성하시오. "
   ]
  },
  {
   "cell_type": "code",
   "execution_count": 20,
   "metadata": {},
   "outputs": [
    {
     "name": "stdout",
     "output_type": "stream",
     "text": [
      "정수하나를 입력하시오 : 234\n",
      "이 정수의 모든 자릿수의 합은 :  9 입니다.\n"
     ]
    }
   ],
   "source": [
    "def sumDigits(n) :               #def를 이용하여 sumDigits라는 함수를 생성\n",
    "    data = [0] * 10              #각 자릿수의 값들을 저장해주는 list, 0으로 초기화\n",
    "    result = 0                   #각 자릿수들의 모든 합을 받는 변수\n",
    "    for i in range(0,10) :       #데이터 리스트의 크기만큼 반복을 한다\n",
    "        data[i] = n % 10         # %10 연산을 하게 되면 입력받은 정수의 가장작은 자릿수가 구해진다\n",
    "        n = n // 10              # //10 연산을 사용하면 가장작은 자릿수가 버려진다\n",
    "        result += data[i]        # 각 자릿수들을 모두 더하여 result변수에 넣어준다\n",
    "        \n",
    "    return print(\"이 정수의 모든 자릿수의 합은 : \", result,\"입니다.\")\n",
    "\n",
    "def main () :                    # main함수를 생성한다\n",
    "    \n",
    "    num = eval(input(\"정수하나를 입력하시오 : \"))\n",
    "    sumDigits(num)\n",
    "    \n",
    "main()                           #main함수 실행"
   ]
  },
  {
   "cell_type": "markdown",
   "metadata": {},
   "source": [
    "문제 설명 : 하나의 정수를 입력받고 입력받은 정수들의 각 자릿수들의 합을 구하기 위하여\n",
    "\n",
    "sumDigits라는 이름을 가진 함수를 하나 생성합니다. 그리고 입력받은 정수를 %10 연산을 \n",
    "\n",
    "통하여 가장 작은 자릿수를 구해주고 그 수를 data라 명한 리스트에 넣어줍니다. 그 후 //10\n",
    "\n",
    "연산을 통하여 가장 작은 자릿수를 버려줍니다. 이와 같은 과정을 입력받은 정수의 자릿수 만큼\n",
    "\n",
    "해주게 되면 입력받은 정수의 각자리의 숫자들을 알 수 있고 리스트에 넣은 모든 숫자들을 더해주게\n",
    "\n",
    "되면 모든 자릿수의 합을 구할 수 있었습니다."
   ]
  },
  {
   "cell_type": "markdown",
   "metadata": {},
   "source": [
    "-------------------------------------------------------------------------------------------"
   ]
  },
  {
   "cell_type": "markdown",
   "metadata": {},
   "source": [
    "문제2번. (3개 숫자를 정렬하기) 3개 숫자를 오름차순으로 출력하는 다음의 함수를 작성하시오.\n",
    "\n",
    "def displaySortedNumbers(num1, num2, num3):사용자로부터 3개 숫자를 입력 받고 이들 숫자를\n",
    "\n",
    "오름차순으로 출력하기 위해 위 함수를 호출하는 테스트 프로그램을 작성하시오.\n",
    "\n",
    "세 수를 입력하세요: 3, 2.4, 5 (enter)\n",
    "\n",
    "정렬된 숫자는 2.4 3 5 입니다. "
   ]
  },
  {
   "cell_type": "code",
   "execution_count": null,
   "metadata": {},
   "outputs": [],
   "source": [
    "def displaySortedNumbers(num1,num2,num3) :               #3개의 숫자를 오름차순으로 출력하는 함수 생성\n",
    "    data = [num1,num2,num3,]                             #3개의 숫자를 리스트로 할당한다\n",
    "    data.sort()                                          #list클래스의 sort함수를 사용\n",
    "    print(\"정렬된 숫자는\",data[0], data[1], data[2],\"입니다.\")\n",
    "    \n",
    "    \n",
    "    \n",
    "def main() :\n",
    "    num1, num2, num3 = eval(input(\"세 수를 입력하세요 : \"))    #3개의 숫자를 입력받는다\n",
    "    displaySortedNumbers(num1,num2,num3)                       #함수호출\n",
    "    \n",
    "main()                                                         #main함수 실행"
   ]
  },
  {
   "cell_type": "markdown",
   "metadata": {},
   "source": [
    "문제 설명 :  3개의 숫자를 입력받고 오름차순으로 출력하기 위해서 함수 생성을 합니다.\n",
    "\n",
    "입력받은 3개의 숫자를 data라는 이름을 가진 list에 할당하고 list클래스의 sort함수를\n",
    "\n",
    "이용하여서 오름차순으로 다시 정렬할 수 있습니다. 그 후 정렬된 숫자들을 차례로 출력하는\n",
    "\n",
    "함수를 완전히 정의한후 main함수를 실행하여 문제를 해결하였습니다."
   ]
  },
  {
   "cell_type": "markdown",
   "metadata": {},
   "source": [
    "-----------------------------------------------------------------------------------------------"
   ]
  },
  {
   "cell_type": "markdown",
   "metadata": {},
   "source": [
    "문제3번. (0과 1의 행렬 출력하기) n * n 행렬을 출력하는 함수를 작성하시오. 함수 헤더는 다음과 같다.\n",
    "\n",
    "def printMatrix(n): 각 원소는 0이나 1의 값을 가지며 랜덤하게 생성된다. 사용자로부터 n을 입력받고\n",
    "\n",
    "n * n 행렬을 출력하는 테스트 프로그램을 작성하시오. 다음은 프로그램의 실행 예이다.\n",
    "\n",
    "n을 입력하세요: 3 (enter)\n",
    "\n",
    "0 1 0\n",
    "\n",
    "0 0 0\n",
    "\n",
    "1 1 1"
   ]
  },
  {
   "cell_type": "code",
   "execution_count": 162,
   "metadata": {},
   "outputs": [
    {
     "name": "stdout",
     "output_type": "stream",
     "text": [
      "n을 입력하세요 : 5\n",
      "1 0 1 0 1 \n",
      "0 1 1 0 0 \n",
      "1 1 1 0 0 \n",
      "0 0 1 0 0 \n",
      "1 0 1 0 0 \n"
     ]
    }
   ],
   "source": [
    "import random                          #값을 랜덤하게 입력하기 위해 random모듈을 import한다\n",
    "\n",
    "def printMatrix(n) :                   # n * n행렬을 출력하는 함수를 생성\n",
    "    matrix = [[0]*n for i in range(n)] # n * n의 크기를 갖는 2중 list 생성\n",
    "    for i in range(0,n):               #행을 나타내는 for문\n",
    "        for j in range(0,n):           #열을 나타내는 for문\n",
    "            matrix[i][j] = random.randrange(0,2)   #각 자리에 0~1까지의 수를 랜덤하게 할당\n",
    "            print(matrix[i][j], end = \" \")         #한 행에 각각의 열의 값을 출력\n",
    "        print()                                    #한 행이 끝나면 다음 행으로 줄바꿈\n",
    "    \n",
    "    \n",
    "def main() :                            \n",
    "    num = eval(input(\"n을 입력하세요 : \"))\n",
    "    printMatrix(num)\n",
    "    \n",
    "main()"
   ]
  },
  {
   "cell_type": "markdown",
   "metadata": {},
   "source": [
    "문제 설명 : n값을 입력하여 n * n의 행렬을 출력하기 위해서 printMatrix라는 이름을 가진 \n",
    "\n",
    "함수를 생성합니다. 입력받은 n의 크기만큼 2중 list를 생성하고 초기화 시켜줍니다. 2개의\n",
    "\n",
    "for문을 이용해서 첫 번째 for문은 행을 나타내는 for문이고 두 번째 for문은 열을 나타내는\n",
    "\n",
    "for문으로 사용합니다. 두 번째 for문에 생성했던 2중 list에 0~1까지 값을 랜덤하게 할당해\n",
    "\n",
    "줍니다. 하나의 행에 모든 열의 값이 채워지면 다음 행으로 넘어가게 되는 방식으로 루프를\n",
    "\n",
    "통하여 n * n의 행렬을 출력하였습니다."
   ]
  },
  {
   "cell_type": "markdown",
   "metadata": {},
   "source": [
    "----------------------------------------------------------------------------------------------------------"
   ]
  },
  {
   "cell_type": "markdown",
   "metadata": {},
   "source": [
    "문제4번. (확률 계산하기) 예제 코드 RandomCharacter.py에 정의된 함수를 사용하여\n",
    "\n",
    "10,000개의 대문자를 생성하고 이 중 A 문자의 개수를 세는 프로그램을 작성하시오. "
   ]
  },
  {
   "cell_type": "code",
   "execution_count": 101,
   "metadata": {},
   "outputs": [
    {
     "name": "stdout",
     "output_type": "stream",
     "text": [
      "A의 개수는 :  358 입니다.\n"
     ]
    }
   ],
   "source": [
    "from random import randint                     # rnadint를 임포트한다\n",
    "\n",
    "def getRandomCharacter(ch1, ch2):              #랜덤문자를 생성한다\n",
    "    return chr(randint(ord(ch1), ord(ch2)))\n",
    "\n",
    "def getRandomUpperCaseLetter(n):               # 랜덤 대문자를 생성합니다.\n",
    "    for i in range(0,10000):                   # 10,000개의 대문자를 생성\n",
    "        n[i] = getRandomCharacter('A', 'Z')    # A~Z사이의 대문자 랜덤 할당\n",
    "def countLetter(n):                     # A의 개수를 세는 함수\n",
    "    count = 0\n",
    "    for i in range(0,10000):            # 각 문자들을 A와 비교하고\n",
    "        if n[i] == 'A':                 # A이면 count의 값을 +1한다\n",
    "            count += 1\n",
    "    return count\n",
    "\n",
    "def main() :\n",
    "    global randomChar\n",
    "    randomChar = [0] * 10000\n",
    "    getRandomUpperCaseLetter(randomChar)\n",
    "    print(\"A의 개수는 : \", countLetter(randomChar), \"입니다.\")\n",
    "    \n",
    "main()\n"
   ]
  },
  {
   "cell_type": "markdown",
   "metadata": {},
   "source": [
    "문제 설명 : randint를 사용하기 위해 randint를 임포트 시킵니다. 예제 코드에 정의된\n",
    "\n",
    "랜덤하게 ch1 ~ ch2사이의 문자를 생성해주는 함수를 사용하여 A부터 Z까지의 대문자를\n",
    "\n",
    "랜덤하게 10000개를 randomChar라는 list에 하나하나 할당해줍니다. 그 후 countLetter()함수를\n",
    "\n",
    "사용하여 각 list안에 값이 'A'이면 count의 값을 +1을 해주어 'A'의 개수가 몇개인지 알 수 있었습니다."
   ]
  },
  {
   "cell_type": "markdown",
   "metadata": {},
   "source": [
    "----------------------------------------------------------------------------------------------------"
   ]
  },
  {
   "cell_type": "markdown",
   "metadata": {},
   "source": [
    "문제5번. 하나의 실수와 하나의 정수를 함수의 인자로 입력 받고, 입력 받은\n",
    "\n",
    "실수를 정수만큼의 자릿수에서 반올림한 결과를 반환하는 my_round() 함수를 작\n",
    "\n",
    "성하여라. 만약 정수가 전달되지 않으면 기본적으로 실수를 소수점 둘째 자리에\n",
    "\n",
    "서 반올림하도록 한다. 단, 파이썬 내장함수 round()를 사용하지 않아야 한다."
   ]
  },
  {
   "cell_type": "code",
   "execution_count": 161,
   "metadata": {},
   "outputs": [
    {
     "name": "stdout",
     "output_type": "stream",
     "text": [
      "실수 하나를 입력해주시오: 6.573424\n",
      "반올림할 소숫점 자리 수를 입력하시오(단, 정수): 4\n",
      "실수를 소수점  4 번째 자리에서 반올림한 값 :  6.573\n"
     ]
    }
   ],
   "source": [
    "def main() :\n",
    "    \n",
    "    real_num = eval(input(\"실수 하나를 입력해주시오: \"))\n",
    "    exceptStr = input(\"반올림할 소숫점 자리 수를 입력하시오(단, 정수): \")\n",
    "    if exceptStr == \"\":                      # 입력값이 없을때 default값을 설정한다.\n",
    "        num = 2\n",
    "    else:\n",
    "        num = eval(exceptStr)                # 입력값이 있다면 입력값 그대로를 사용\n",
    "    print(\"실수를 소수점 \",num,\"번째 자리에서 반올림한 값 : \", my_round(real_num, num))\n",
    "                     \n",
    "def my_round(num1,num2 = 2):                   # num1은 입력받은 실수, num2는 입력받은 정수\n",
    "    result = 0                                 # 반올림 과정이 마무리된 값을 받는 변수\n",
    "    trans_num = (num1 * pow(10,num2))          #num2정수 만큼 소숫점 뒤로 민다. 그 수를 받는 변수가 trans_num\n",
    "    one_num = (trans_num)%10                   #1의 자리 숫자를 구한다. 그 수를 받는 변수가 one_num\n",
    "    if one_num >= 5 :                          #1의 자리 수가 5보다 크거나 같으면 올림\n",
    "        result = ((trans_num + 10)//10) / pow(10,num2-1)    #몫 나눗셈을 이용해 반올림한 소수점 자리 이후 값 버림\n",
    "    else :                                                  #작으면 내림\n",
    "        result = (trans_num//10) / pow(10,num2-1) \n",
    "    return result\n",
    "\n",
    "main()"
   ]
  },
  {
   "cell_type": "markdown",
   "metadata": {},
   "source": [
    "문제 설명 : 하나의 실수를 입력받고 하나의 정수를 입력받은 후 실수를 정수가 받은 숫자의\n",
    "\n",
    "소숫점 자리에서 반올림을 하기위해서 다음과 같은 방법을 사용하였습니다. 실수값을 정수의\n",
    "\n",
    "값만큼 10 ** num2 값으로 곱하여서 반올림을 할지말지 비교하는 숫자를 일의 자리로 만듭니다.\n",
    "\n",
    "그 후 나머지 연산을 통하여 일의 자리수를 구하고 그 값이 5보다 크거나같으면 +10을 하여서\n",
    "\n",
    "반올림한 값을 표현하고 몫 나누기 연산을 통하여 // 10을 해주면 반올림을한 자리수 포함 숫자를\n",
    "\n",
    "다 버리게 됩니다. 그리고 다시 원래의 값으로 돌리기위해 10 ** (num2-1)로 나누어 주어 본래의\n",
    "\n",
    "소숫점의 위치로 돌릴 수 있습니다."
   ]
  },
  {
   "cell_type": "markdown",
   "metadata": {},
   "source": [
    "----------------------------------------------------------------------------"
   ]
  },
  {
   "cell_type": "markdown",
   "metadata": {},
   "source": [
    "문제6번. (정수를 역순으로 출력하기) 정수를 역순으로 출력하는 다음의 함수를 작성하시오.\n",
    "\n",
    "def reverse(number):\n",
    "\n",
    "예를 들어, reverse(3456)은 6543을 출력한다. 사용자로부터 정수를 입력 받고 그 정수의\n",
    "\n",
    "역순을 출력하는 테스트 프로그램을 작성하시오"
   ]
  },
  {
   "cell_type": "code",
   "execution_count": 14,
   "metadata": {},
   "outputs": [
    {
     "name": "stdout",
     "output_type": "stream",
     "text": [
      "정수를 입력하시오 : -5421\n",
      "-1245"
     ]
    }
   ],
   "source": [
    "def reverse(n) :               #def를 이용하여 reversse라는 함수를 생성\n",
    "    data = [0] * 10            #각 자릿수의 값들을 저장해주는 list, 0으로 초기화\n",
    "    for i in range(0,10) :     #데이터 리스트의 크기만큼 반복을 한다\n",
    "        if n < 0 :\n",
    "            data[i] = n % -10\n",
    "            print(data[i],end=\"\")\n",
    "            n = n // -10\n",
    "            if n == 0 :\n",
    "                break\n",
    "        else : \n",
    "            data[i] = n % 10       # %10 연산을 하게 되면 입력받은 정수의 가장작은 자릿수가 구해진다\n",
    "            print(data[i],end=\"\")  #값들을 하나씩 출력해준다.\n",
    "            n = n // 10            # //10 연산을 사용하면 가장작은 자릿수가 버려진다 \n",
    "            if n == 0 :            # n의 값이 0이 되면 더이상 저장되는 값이 없으므로 반복루프 종료\n",
    "                break\n",
    "\n",
    "def main () :                    # main함수를 생성한다\n",
    "    \n",
    "    num = eval(input(\"정수를 입력하시오 : \"))\n",
    "    reverse(num)\n",
    "    \n",
    "main()                           #main함수 실행"
   ]
  },
  {
   "cell_type": "markdown",
   "metadata": {},
   "source": [
    "문제 설명 : 정수를 입력받아서 그 정수를 역순으로 출력하는 함수를 만들기 위해서 생각을 해봤을 때\n",
    "\n",
    "1번 문제에서 사용했던 함수를 조금만 변경하면 쉽게 할 수 있었습니다. 1번 문제에서 sumDigits()함수는\n",
    "\n",
    "입력받은 정수에서 각 자리수의 합들을 구했는데 이 과정에서 각 자리값을 구해서 리스트에 넣을 때 역순\n",
    "\n",
    "으로 넣었기 때문에 그걸 그대로 이용해서 그냥 출력만 해주면 되는 문제였습니다. 하지만 그렇게 하면 \n",
    "\n",
    "list크기 보다 작은 길이의 정수값을 입력하면 list안에 초기화된 값이 함께 나오기 때문에 그것을 방지하기\n",
    "\n",
    "위해서 각 자리수를 넣어줄때 그 값이 0이되면 더이상 할당되는 값이 없으니 for반복문을 종료하게 함으로서\n",
    "\n",
    "문제를 해결하였습니다."
   ]
  }
 ],
 "metadata": {
  "kernelspec": {
   "display_name": "Python 3",
   "language": "python",
   "name": "python3"
  },
  "language_info": {
   "codemirror_mode": {
    "name": "ipython",
    "version": 3
   },
   "file_extension": ".py",
   "mimetype": "text/x-python",
   "name": "python",
   "nbconvert_exporter": "python",
   "pygments_lexer": "ipython3",
   "version": "3.6.5"
  }
 },
 "nbformat": 4,
 "nbformat_minor": 2
}
