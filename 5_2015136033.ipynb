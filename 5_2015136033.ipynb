{
 "cells": [
  {
   "cell_type": "markdown",
   "metadata": {},
   "source": [
    "문제1번. (Fan 클래스) 팬을 표현하는 Fan 클래스를 설계하시오. Fan 클래스는 다음을 포함한다.\n",
    "\n",
    " 팬의 속도를 나타내는 각각의 값이 1,2,3 인 세 상수 SLOW, MEDIUM 과 FAST\n",
    "\n",
    " 팬의 속도를 명시하는 private int 데이터 필드 speed\n",
    "\n",
    " 팬의 전원이 켜져 있는지 나타내는 private bool 데이터 필드 on(기본값 False)\n",
    "\n",
    " 팬의 반지름(크기)을 나타내는 private float 데이터 필드 radius\n",
    "\n",
    " 팬의 색상을 나타내는 private string 데이터 필드 color\n",
    "\n",
    " 모든 데이터 필드에 대한 접근자와 변경자\n",
    "\n",
    " 특정 속도(기본값 SLOW), 반지름(기본값 5), 색상(기본값 blue), 그리고 전원(기본값 False)에\n",
    "   대한 선풍기를 생성하는 생성자\n",
    "   \n",
    "Fan 클래스에 대한 UML 다이어그램을 작성한 후 클래스를 구현하시오. 두 개의 Fan 객체를 생성하는\n",
    "\n",
    "테스트 프로그램을 작성하시오. 첫 번째 객체에 대해 최대 속도, 크기 10, 색상 노란색 그리고 전원\n",
    "\n",
    "켜짐을 할당하시오. 두 번째 객체에 대해 중간 속도, 크기 5, 색상 파란색 그리고 전원은 꺼짐을 \n",
    "\n",
    "할당하시오. 각 객체의 속도, 반지름, 색상 및 전원 속성을 출력하시오.\n"
   ]
  },
  {
   "cell_type": "code",
   "execution_count": 9,
   "metadata": {},
   "outputs": [
    {
     "name": "stdout",
     "output_type": "stream",
     "text": [
      "fan1의 전원은 켜짐\n",
      "fan1의 속도는 FAST 입니다.\n",
      "fan1의 팬 반지름은 10 이고 색상은 Yellow\n",
      "\n",
      "\n",
      "fan2의 전원은 꺼짐\n",
      "fan2의 속도는 MEDIUM 입니다.\n",
      "fan2의 팬 반지름은 5 이고 색상은 Blue\n"
     ]
    }
   ],
   "source": [
    "class Fan :                        #Fan클래스.\n",
    "    SLOW, MEDIUM, FAST = 1, 2, 3   #속돌를 나타내는 변수\n",
    "    speed : int          \n",
    "    on : bool\n",
    "    radius : float\n",
    "    color : str\n",
    "    def __init__(self,speed = SLOW) :        #Fan클래스의 생성자\n",
    "        self.__speed = speed          #기본값들을 넣어준다\n",
    "        self.__on = 0\n",
    "        self.__radius = 5\n",
    "        self.__color = \"blue\"\n",
    "        \n",
    "    def getSpeed(self) :        #speed를 리턴\n",
    "        return self.speed\n",
    "    def setSpeed(self,speed) :  #speed를 설정\n",
    "        self.speed = speed\n",
    "    def speedOk(self) :         #각 속도에 따른 출력\n",
    "        if self.speed == 1 :\n",
    "            print(\"SLOW\",end=\"\")\n",
    "        elif self.speed == 2 :\n",
    "            print(\"MEDIUM\",end=\"\")\n",
    "        elif self.speed == 3 :\n",
    "            print(\"FAST\",end=\"\")\n",
    "    def turnOn(self) :          #전원이 켜짐을 설정\n",
    "        self.on = True\n",
    "        return True\n",
    "    def turnOff(self) :         #전원이 꺼짐을 설정\n",
    "        self.on = False\n",
    "        return False\n",
    "    def turnOk(self) :          #각 전원에 따른 출력\n",
    "        if self.on == True :\n",
    "            print(\"켜짐\")\n",
    "        elif self.on == False:\n",
    "            print(\"꺼짐\")\n",
    "        \n",
    "    def getRadius(self) :            #radius반환\n",
    "        return self.radius\n",
    "    def setRadius(self,radius) :     #raodise설정\n",
    "        self.radius = radius\n",
    "        \n",
    "    def getColor(self) :             #color반환\n",
    "        return self.color\n",
    "    def setColor(self,color) :       #color설정\n",
    "        self.color = color\n",
    "    \n",
    "def main () :\n",
    "    fan1 = Fan()\n",
    "    fan1.setSpeed(3)\n",
    "    fan1.turnOn()\n",
    "    fan1.setColor(\"Yellow\")\n",
    "    fan1.setRadius(10)\n",
    "    \n",
    "    fan2 = Fan()\n",
    "    fan2.setSpeed(2)\n",
    "    fan2.turnOff()\n",
    "    fan2.setColor(\"Blue\")\n",
    "    fan2.setRadius(5)\n",
    "    \n",
    "    print(\"fan1의 전원은 \",end=\"\")\n",
    "    fan1.turnOk()\n",
    "    print(\"fan1의 속도는 \",end=\"\")\n",
    "    fan1.speedOk()\n",
    "    print(\" 입니다.\")\n",
    "    print(\"fan1의 팬 반지름은\", fan1.getRadius(), \"이고 색상은\", fan1.getColor())\n",
    "    print(\"\\n\")\n",
    "    \n",
    "    print(\"fan2의 전원은 \",end=\"\")\n",
    "    fan2.turnOk()\n",
    "    print(\"fan2의 속도는 \",end=\"\")\n",
    "    fan2.speedOk()\n",
    "    print(\" 입니다.\")\n",
    "    print(\"fan2의 팬 반지름은\", fan2.getRadius(), \"이고 색상은\", fan2.getColor())\n",
    "    \n",
    "main()"
   ]
  },
  {
   "cell_type": "markdown",
   "metadata": {},
   "source": [
    "문제 설명 : 팬을 표현하는 Fan클래스를 만들기 위해서 팬의 속도를 명시하는 int타입의 \n",
    "\n",
    "데이터필드 speed를 만들고 전원을 나타내는 bool타입의 데이터필드 on을 만들고 팬의 \n",
    "\n",
    "반지름을 나타내는 float타입의 데이터필드 radius를 만들고 팬의 색상을 나타내는 \n",
    "\n",
    "string타입의 데이터필드 color를 만들었습니다. 클래스 생성에 필요한 생성자를 설정할 때\n",
    "\n",
    "기본값을 넣어줄 값들을 설정해주었습니다. 모든 데이터 필드에 대해서 필요한 경우에 따라\n",
    "\n",
    "접근자와 변경자를 생성해주었습니다. 파이썬의 클래스는 기존에 배우던 C++과 JAVA하고는 \n",
    "\n",
    "멤버변수 설정과, 자기 객체를 가리키는 키워드가 달라서 신기했습니다."
   ]
  },
  {
   "cell_type": "markdown",
   "metadata": {},
   "source": [
    "------------------------------------------------------------------------------"
   ]
  },
  {
   "cell_type": "markdown",
   "metadata": {},
   "source": [
    "문제2번. (스톱워치) StopWatch 클래스를 설계하시오. 클래스는 다음을 포함한다.\n",
    "\n",
    " Private 데이터 필드 startTime 과 endTime 및 get 메소드\n",
    "\n",
    " 현재시간으로 startTime 을 초기화하는 생성자\n",
    "\n",
    " 현재시간으로 startTime 을 재설정하는 start() 메소드\n",
    "\n",
    " 현재시간을 endTime 으로 설정하는 stop() 메소드\n",
    "\n",
    " 스톱워치의 경과시간을 밀리초 단위로 반환하는 getElapsedTime() 메소드\n",
    "\n",
    "StopWatch 클래스의 UML 다이어그램을 작성한 후 클래스를 구현하시오.\n",
    "\n",
    "1부터 1,000,000까지 숫자를 더하는 데 소요되는 실행 시간을 측정하는 \n",
    "\n",
    "테스트 프로그램을 작성하시오."
   ]
  },
  {
   "cell_type": "code",
   "execution_count": 8,
   "metadata": {},
   "outputs": [
    {
     "name": "stdout",
     "output_type": "stream",
     "text": [
      "1부터 1,000,000까지 숫자를 더하는 데 소요되는 시간은 :  4.602265357971191e-05초입니다. \n"
     ]
    }
   ],
   "source": [
    "import time                #시간을 사용하기 위해 time을 임포트한다.\n",
    "\n",
    "class StopWatch :\n",
    "    \n",
    "    \n",
    "    def __init__(self,startTime = time.time(),endTime = time.time()) :   #생성자\n",
    "        self.__startTime = startTime    #시간을 초기화한다\n",
    "        self.__endTime = endTime\n",
    "    def start(self) :                  #시작\n",
    "        self.startTime = time.time()\n",
    "    def stop(self) :                   #종료\n",
    "        self.endTime = time.time()\n",
    "    def getElapsedTime(self) :         #경과시간 반환\n",
    "        runtime = self.endTime - self.startTime\n",
    "        return runtime/1000\n",
    "    \n",
    "def main() :\n",
    "    stopwatch = StopWatch()\n",
    "    stopwatch.start()\n",
    "    i = 0\n",
    "    sum = 0\n",
    "    for i in range(0,1000000) :\n",
    "        sum += i\n",
    "    stopwatch.stop()\n",
    "    \n",
    "    print(\"1부터 1,000,000까지 숫자를 더하는 데 소요되는 시간은 : \",stopwatch.getElapsedTime(),end=\"\")\n",
    "    print(\"초입니다. \")\n",
    "    \n",
    "main()\n",
    "        "
   ]
  },
  {
   "cell_type": "markdown",
   "metadata": {},
   "source": [
    "문제 설명 : 문제에서 시간을 사용하기 때문에 time모듈을 임포트를 시켰습니다.\n",
    "\n",
    "StopWatch클래스를 생성합니다. int형 데이터 필드 startTime과 endTime을 선언합니다.\n",
    "\n",
    "그 후 생성자를 설정할때 처음 시간을 초기화하도록 설정합니다. 시작시간을 받는 \n",
    "\n",
    "함수와 종료시간을 받는 함수를 정의합니다. end시간에서 start시간을 빼주어 경과한\n",
    "\n",
    "시간을 측정하는 함수를 정의합니다. main()에서 1부터 1,000,000까지 숫자를 더하는데\n",
    "\n",
    "소요되는 시간을 측정하여 출력하였습니다."
   ]
  },
  {
   "cell_type": "markdown",
   "metadata": {},
   "source": [
    "--------------------------------------------------------------------------------------------"
   ]
  },
  {
   "cell_type": "markdown",
   "metadata": {},
   "source": [
    "문제3번. (Time 클래스) Time라는 이름의 클래스를 설계하시오. 클래스는 다음을 포함한다.\n",
    "\n",
    " 시간을 표현하는 hour, minute 및 second private 데이터 필드\n",
    "\n",
    " 현재 시간을 사용하여 hour, minute 및 second 를 초기화하는 Time 객체를 생성하는 생성자\n",
    "\n",
    " 각각의 hour, minute 및 second 데이터 필드에 대한 get 메소드\n",
    "\n",
    " 초 단위의 소요 시간을 사용하여 객체의 새로운 시간을 설정하는\n",
    "\n",
    "setTime(elapseTime) 메소드, 예를 들어 소요 시간 555550 초는 10 시간,19 분 10 초이다.\n",
    "\n",
    "Time클래스에 대한 UML다이어그램을 작성한 후 클래스를 구현하시오. Time 객체를 생성하는\n",
    "\n",
    "테스트 프로그램을 작성하고 시, 분, 초를 출력하시오. 프로그램은 사용자로부터 소요 시간을 입\n",
    "\n",
    "력 받고 Time객체에 입력 받은 소요 시간을 설정하고 시, 분, 초를 출력한다. 실행 예는 다음과 같다.\n",
    "\n",
    "현재 시간은 12:41:6 입니다.\n",
    "\n",
    "소요 시간을 입력하세요: 55550505 (enter)\n",
    "\n",
    "소요 시간의 시:분:초는 22:41:45입니다.\n",
    "\n",
    "(힌트: time 모듈의 time() 함수는 1970년 1월 1일 자정 이후 현재까지 소요시간을 초 단위의\n",
    "\n",
    "float 데이터로 반환한다. 소요 시간을 시:분:초로 변환한 위의 예는 UTC (그리니치 표준시) \n",
    "\n",
    "기준으로 표현된 것이다. 이를 위해 time 모듈에 정의된 함수를 활용할 수 있다.)"
   ]
  },
  {
   "cell_type": "code",
   "execution_count": 23,
   "metadata": {},
   "outputs": [
    {
     "name": "stdout",
     "output_type": "stream",
     "text": [
      "현재 시간은  14 : 45 : 39 입니다.\n",
      "소요 시간을 입력하세요 : 55550505\n",
      "소요 시간 후의 시간은  22 : 41 : 45 입니다.\n"
     ]
    }
   ],
   "source": [
    "import time                 #시간을 사용하기 위해 time모듈 임포트\n",
    "\n",
    "CURRENT = time.gmtime()     #지금의 시간을 상수로 할당한다.\n",
    "\n",
    "class Time :                #시간을 처리하는 클래스\n",
    "    \n",
    "    def __init__(self) :             #생성자(현재 시간으로 초기화)\n",
    "        self.__hour = CURRENT[3]     \n",
    "        self.__minute = CURRENT[4]\n",
    "        self.__second = CURRENT[5]\n",
    "    def getHour(self):\n",
    "        return self.__hour\n",
    "    def getMinute(self):\n",
    "        return self.__minute\n",
    "    def getSecond(self):\n",
    "        return self.__second\n",
    "    def setTime(self,elapseTime):   #입력 받은 초를 시, 분, 초로 변환\n",
    "        self.__second = elapseTime % 60\n",
    "        self.__minute = (elapseTime // 60) % 60 \n",
    "        self.__hour = ((elapseTime // 60) // 60) % 24\n",
    "        \n",
    "def main() : \n",
    "    timeTable = Time()                                           #객체 선언\n",
    "    print(\"현재 시간은 \",timeTable.getHour(),\":\",timeTable.getMinute(),\":\",timeTable.getSecond(),\"입니다.\")\n",
    "    elapseTime = eval(input(\"소요 시간을 입력하세요 : \"))        #소요 시간 입력 받음.\n",
    "    timeTable.setTime(elapseTime)                                #setTime메소드 실행\n",
    "    print(\"소요 시간 후의 시간은 \",timeTable.getHour()%24,\":\",timeTable.getMinute()%60,\":\",timeTable.getSecond()%60,\"입니다.\")\n",
    "    \n",
    "main()"
   ]
  },
  {
   "cell_type": "markdown",
   "metadata": {},
   "source": [
    "문제 설명 : 현재시간으로 각각의 데이터 필드 변수들을 초기화 하기 위해 time.gmtime()함수를\n",
    "\n",
    "사용하여 CURRENT라는 상수에 할당합니다. 여기서 time.gmtime()은 값이 리스트 형식으로 이루어져\n",
    "\n",
    "있기 때문에 CURRENT[3]은 시간 [4]는 분 [5]의 값은 초를 나타냅니다. 따라서 Time클래스 생성자에서\n",
    "\n",
    "초기화를 할 때 각각의 변수에 할당해주었습니다. 그 후 private인 변수들을 사용하기 위한 get메소드를\n",
    "\n",
    "만들었습니다. 소요시간을 초단위로 받아 그 값을 시, 분, 초로 변환하고 출력하기 위한 setTime()메소드를\n",
    "\n",
    "정의 하였습니다."
   ]
  },
  {
   "cell_type": "markdown",
   "metadata": {},
   "source": [
    "-------------------------------------------------------------------------------------"
   ]
  },
  {
   "cell_type": "markdown",
   "metadata": {},
   "source": [
    "문제4번. (Rectangle 클래스) Circle 클래스 예제를 참조하여 사각형을 표현하는\n",
    "\n",
    "Rectangle이라는 클래스를 구현하시오. Rentangle 클래스는 다음을 포함한다.\n",
    "\n",
    "● 두 데이터 필드: width와 height\n",
    "\n",
    "● 특정 폭(width)과 높이(height)를 갖는 사각형을 생성하는 생성자. 폭과 높이의\n",
    "기본값은 각각 1과 2이다.\n",
    "\n",
    "● 사각형의 넓이를 반환하는 getArea() 메소드\n",
    "\n",
    "● 사각형의 둘레를 반환하는 getPerimeter() 메소드\n",
    "\n",
    "하나는 폭 4, 높이 10, 다른 하나는 폭 3.5, 높이 35.7인 두 사각형을 생성하는 테\n",
    "\n",
    "스트 프로그램을 작성하시오. 각 사각형의 폭, 높이, 넓이 및 둘레 순으로 출력하시오."
   ]
  },
  {
   "cell_type": "code",
   "execution_count": 16,
   "metadata": {},
   "outputs": [
    {
     "name": "stdout",
     "output_type": "stream",
     "text": [
      "<   사각형 1   >\n",
      "폭   :  4\n",
      "높이 :  10\n",
      "넓이 :  40\n",
      "둘레 :  14\n",
      "\n",
      "<   사각형 2   >\n",
      "폭   :  3.5\n",
      "높이 :  35.7\n",
      "넓이 :  124.95000000000002\n",
      "둘레 :  39.2\n"
     ]
    }
   ],
   "source": [
    "class  Rectangle :                  #사각형 클래스\n",
    "        \n",
    "    def __init__(self,width = 1,height = 2):   #기본 설정을 폭 1, 높이 2로 해준다.\n",
    "        self.__width = width\n",
    "        self.__height = height\n",
    "    def getArea(self) :                        #넓이는 계산하는 메소드\n",
    "        area = self.__width * self.__height\n",
    "        return area\n",
    "    def getPerimeter(self) :                   #둘레를 계산하는 메소드\n",
    "        perimeter = (self.__width + self.__height)\n",
    "        return perimeter\n",
    "    def display(self) :                        #각 값들을 출력하는 메소드\n",
    "        print(\"폭   : \", self.__width)\n",
    "        print(\"높이 : \", self.__height)\n",
    "        print(\"넓이 : \", self.getArea())\n",
    "        print(\"둘레 : \", self.getPerimeter())\n",
    "        \n",
    "def main() :\n",
    "    rectangle1 = Rectangle(4,10)              #두 개의 사각형 객체를 선언\n",
    "    rectangle2 = Rectangle(3.5,35.7)\n",
    "        \n",
    "    print(\"<   사각형 1   >\")\n",
    "    rectangle1.display()\n",
    "    print(\"\")\n",
    "    print(\"<   사각형 2   >\")\n",
    "    rectangle2.display()\n",
    "        \n",
    "main()"
   ]
  },
  {
   "cell_type": "markdown",
   "metadata": {},
   "source": [
    "문제 설명 : 폭을 나타내는 width와 높이를 나타내는 height를 클래스 생성자에서\n",
    "\n",
    "디폴트 값으로 1과 2으로 설정해줍니다. 사용자가 객체를 생성할 때 값을 변경하며\n",
    "\n",
    "생성할 수 있도록 생성자를 설정하였습니다. 따라서 객체를 생성할 때 주어진 값들로\n",
    "\n",
    "초기화 하며 생성할 수 있습니다. 넓이를 구하는 연산을 정의한 getArea()메소드를\n",
    "\n",
    "생성합니다. 둘레를 계산하는 연산을 정의한 getPerimeter()메소드를 생성합니다. \n",
    "\n",
    "폭, 높이, 넓이, 둘레의 값들을 출력하기 위해서 display()메소를 생성하여 코드의\n",
    "\n",
    "중복을 방지하였습니다."
   ]
  }
 ],
 "metadata": {
  "kernelspec": {
   "display_name": "Python 3",
   "language": "python",
   "name": "python3"
  },
  "language_info": {
   "codemirror_mode": {
    "name": "ipython",
    "version": 3
   },
   "file_extension": ".py",
   "mimetype": "text/x-python",
   "name": "python",
   "nbconvert_exporter": "python",
   "pygments_lexer": "ipython3",
   "version": "3.6.5"
  }
 },
 "nbformat": 4,
 "nbformat_minor": 2
}
